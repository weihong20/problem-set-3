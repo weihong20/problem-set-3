{
 "cells": [
  {
   "cell_type": "code",
   "execution_count": 1,
   "metadata": {},
   "outputs": [],
   "source": [
    "data = open('/blue/bsc4452/share/Class_Files/data/CO-OPS__8729108__wl.csv')"
   ]
  },
  {
   "cell_type": "code",
   "execution_count": 2,
   "metadata": {},
   "outputs": [
    {
     "name": "stdout",
     "output_type": "stream",
     "text": [
      "2018-10-10 18:06 6.647\n"
     ]
    }
   ],
   "source": [
    "#Problem 1\n",
    "maxvalue=None\n",
    "for line in data:\n",
    "    datatime=line.strip().split(\",\")[0]\n",
    "    waterlevel=line.strip().split(\",\")[1]\n",
    "    if maxvalue is None or waterlevel > maxvalue:\n",
    "        maxvalue=waterlevel\n",
    "        maxdate=datatime\n",
    "print(maxdate, maxvalue)"
   ]
  },
  {
   "cell_type": "code",
   "execution_count": 3,
   "metadata": {},
   "outputs": [
    {
     "name": "stdout",
     "output_type": "stream",
     "text": [
      "highest 2018-10-10 18:06 6.647\n",
      "lowest 2018-10-11 15:36 1.621\n",
      "average 2.982323204419889\n"
     ]
    }
   ],
   "source": [
    "#problem 2\n",
    "import pandas as pd\n",
    "data2=pd.read_csv(\"/blue/bsc4452/share/Class_Files/data/CO-OPS__8729108__wl.csv\")\n",
    "data2.columns = ['Date Time','Water Level','Sigma','O','F','R','L','Quality']\n",
    "print(\"highest\", data2['Date Time'][data2['Water Level'].idxmax()], data2['Water Level'].max())\n",
    "print(\"lowest\", data2['Date Time'][data2['Water Level'].idxmin()], data2['Water Level'].min())\n",
    "print(\"average\", data2['Water Level'].mean())"
   ]
  },
  {
   "cell_type": "code",
   "execution_count": 4,
   "metadata": {},
   "outputs": [
    {
     "name": "stdout",
     "output_type": "stream",
     "text": [
      "the fastest rise is:  0.6399999999999997 from 4.9510000000000005 to 5.591\n",
      "from 2018-10-10 17:36 to 2018-10-10 17:42\n"
     ]
    }
   ],
   "source": [
    "#problem 3\n",
    "difference = data2['Water Level'].diff()\n",
    "print(\"the fastest rise is: \", difference.max(), \"from\", data2['Water Level'][difference.idxmax()-1], \"to\", data2['Water Level'][difference.idxmax()])\n",
    "print(\"from\", data2['Date Time'][difference.idxmax()-1], \"to\", data2['Date Time'][difference.idxmax()])"
   ]
  },
  {
   "cell_type": "code",
   "execution_count": 5,
   "metadata": {},
   "outputs": [
    {
     "name": "stdout",
     "output_type": "stream",
     "text": [
      "the fastest rise is:  0.6399999999999997 from 5.591 in 2018-10-10 17:42 to 4.9510000000000005 in 2018-10-10 17:36\n"
     ]
    }
   ],
   "source": [
    "#problem3 (or insert a new column)\n",
    "data2['level_dif'] = data2['Water Level'].diff()\n",
    "print(\"the fastest rise is: \", data2['level_dif'].max(), \"from\", data2['Water Level'][data2['level_dif'].idxmax()], \"in\", data2['Date Time'][data2['level_dif'].idxmax()],\n",
    "     \"to\", data2['Water Level'][data2['level_dif'].idxmax()-1], \"in\", data2['Date Time'][data2['level_dif'].idxmax()-1])"
   ]
  },
  {
   "cell_type": "code",
   "execution_count": 6,
   "metadata": {},
   "outputs": [
    {
     "name": "stdout",
     "output_type": "stream",
     "text": [
      "2018-10-10 17:30 0.3019999999999996 The water level increases more than 0.25\n",
      "2018-10-10 17:36 0.2790000000000008 The water level increases more than 0.25\n",
      "2018-10-10 17:42 0.6399999999999997 The water level increases more than 0.25\n",
      "2018-10-10 17:42 5.591 The water level is over 5.0\n",
      "2018-10-10 17:48 0.3669999999999991 The water level increases more than 0.25\n",
      "2018-10-10 17:48 5.957999999999999 The water level is over 5.0\n",
      "2018-10-10 17:54 0.4460000000000006 The water level increases more than 0.25\n",
      "2018-10-10 17:54 6.404 The water level is over 5.0\n",
      "2018-10-10 18:00 6.575 The water level is over 5.0\n",
      "2018-10-10 18:06 6.647 The water level is over 5.0\n",
      "2018-10-10 18:12 6.502999999999999 The water level is over 5.0\n",
      "2018-10-10 18:18 No reading is received at a time point\n",
      "2018-10-10 18:24 6.309 The water level is over 5.0\n",
      "2018-10-10 18:30 6.024 The water level is over 5.0\n",
      "2018-10-10 18:36 5.725 The water level is over 5.0\n",
      "2018-10-10 18:42 5.699 The water level is over 5.0\n",
      "2018-10-10 18:48 5.449 The water level is over 5.0\n",
      "2018-10-10 18:54 5.337999999999999 The water level is over 5.0\n",
      "2018-10-10 19:00 5.22 The water level is over 5.0\n"
     ]
    }
   ],
   "source": [
    "#problem4\n",
    "index = 0\n",
    "while index < len(data2):\n",
    "    date = data2['Date Time'][index]\n",
    "    diff = data2['level_dif'][index]\n",
    "    water = data2['Water Level'][index]\n",
    "    if diff > 0.25:\n",
    "        print(date, diff, \"The water level increases more than 0.25\")\n",
    "    if water > 5.0:\n",
    "        print(date, water, \"The water level is over 5.0\")\n",
    "    if pd.isnull(water):\n",
    "        print(date, \"No reading is received at a time point\")\n",
    "    index = index + 1"
   ]
  },
  {
   "cell_type": "code",
   "execution_count": 7,
   "metadata": {},
   "outputs": [
    {
     "name": "stdout",
     "output_type": "stream",
     "text": [
      "            Date Time  Water Level  Sigma  O  F  R  L Quality  level_dif\n",
      "415  2018-10-10 17:30        4.672  0.135  1  0  0  0       p      0.302\n",
      "416  2018-10-10 17:36        4.951  0.148  1  0  0  0       p      0.279\n",
      "417  2018-10-10 17:42        5.591  0.230  1  0  0  0       p      0.640\n",
      "418  2018-10-10 17:48        5.958  0.312  1  0  0  0       p      0.367\n",
      "419  2018-10-10 17:54        6.404  0.308  1  0  0  0       p      0.446\n"
     ]
    }
   ],
   "source": [
    "print(data2[data2['level_dif']>0.25])"
   ]
  },
  {
   "cell_type": "code",
   "execution_count": 9,
   "metadata": {},
   "outputs": [
    {
     "name": "stdout",
     "output_type": "stream",
     "text": [
      "            Date Time  Water Level  Sigma  O  F  R  L Quality  level_dif\n",
      "417  2018-10-10 17:42        5.591  0.230  1  0  0  0       p      0.640\n",
      "418  2018-10-10 17:48        5.958  0.312  1  0  0  0       p      0.367\n",
      "419  2018-10-10 17:54        6.404  0.308  1  0  0  0       p      0.446\n",
      "420  2018-10-10 18:00        6.575  0.472  1  0  0  0       p      0.171\n",
      "421  2018-10-10 18:06        6.647  0.561  1  0  0  0       p      0.072\n",
      "422  2018-10-10 18:12        6.503  0.502  1  0  0  0       p     -0.144\n",
      "424  2018-10-10 18:24        6.309  0.561  0  0  0  0       p        NaN\n",
      "425  2018-10-10 18:30        6.024  0.482  1  0  0  0       p     -0.285\n",
      "426  2018-10-10 18:36        5.725  0.538  0  0  0  0       p     -0.299\n",
      "427  2018-10-10 18:42        5.699  0.482  1  0  0  0       p     -0.026\n",
      "428  2018-10-10 18:48        5.449  0.492  0  0  0  0       p     -0.250\n",
      "429  2018-10-10 18:54        5.338  0.486  0  0  0  0       p     -0.111\n",
      "430  2018-10-10 19:00        5.220  0.469  1  0  0  0       p     -0.118\n"
     ]
    }
   ],
   "source": [
    "print(data2[data2['Water Level']>5.0])"
   ]
  },
  {
   "cell_type": "code",
   "execution_count": null,
   "metadata": {},
   "outputs": [],
   "source": []
  }
 ],
 "metadata": {
  "kernelspec": {
   "display_name": "Python 3.8 (full)",
   "language": "python",
   "name": "python3-3.8-ufrc"
  },
  "language_info": {
   "codemirror_mode": {
    "name": "ipython",
    "version": 3
   },
   "file_extension": ".py",
   "mimetype": "text/x-python",
   "name": "python",
   "nbconvert_exporter": "python",
   "pygments_lexer": "ipython3",
   "version": "3.8.5"
  }
 },
 "nbformat": 4,
 "nbformat_minor": 4
}
